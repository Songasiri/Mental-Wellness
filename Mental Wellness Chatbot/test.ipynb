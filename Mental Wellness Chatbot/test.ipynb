{
 "cells": [
  {
   "cell_type": "code",
   "execution_count": 10,
   "metadata": {},
   "outputs": [
    {
     "name": "stdout",
     "output_type": "stream",
     "text": [
      "Top tracks for mood 'sad' ':\n",
      "- Saiyyan by Kailash Kher, Paresh Kamath, Naresh Kamath\n",
      "- Teri Deewani by Kailash Kher, Paresh Kamath, Naresh Kamath\n",
      "- O Re Piya by Salim–Sulaiman, Rahat Fateh Ali Khan, Jaideep Sahni\n",
      "- Co2 by Prateek Kuhad\n",
      "- Sun Saathiya by Divya Kumar, Priya Saraiya\n",
      "- The Night We Met by Lord Huron\n",
      "- Haule Haule by Salim–Sulaiman, Sukhwinder Singh, Jaideep Sahni\n",
      "- Tujh Mein Rab Dikhta Hai by Salim–Sulaiman, Roop Kumar Rathod, Jaideep Sahni\n",
      "- Aarambh by Piyush Mishra\n",
      "- Ainvayi Ainvayi by Salim–Sulaiman, Salim Merchant, Sunidhi Chauhan, Amitabh Bhattacharya\n"
     ]
    }
   ],
   "source": [
    "import spotipy\n",
    "from spotipy.oauth2 import SpotifyClientCredentials\n",
    "import os\n",
    "\n",
    "# Set up Spotify credentials\n",
    "spotify_client_credentials_manager = SpotifyClientCredentials(client_id='9959a1d8eb1b4f378da63ad9b59335d1', client_secret='054e13dc8da540338247c00a933a20ac')\n",
    "sp = spotipy.Spotify(client_credentials_manager=spotify_client_credentials_manager,language='ta')\n",
    "\n",
    "\n",
    "# Mapping moods to genres\n",
    "mood_to_genre = {\n",
    "    \"happy\": \"pop\",\n",
    "    \"sad\": \"folk\",\n",
    "    \"angry\": \"rock\",\n",
    "    \"fearful\": \"rap\",\n",
    "    \"surprised\": \"dance\",\n",
    "    \"neutral\": \"r&b\"\n",
    "}\n",
    "\n",
    "# Mapping language codes\n",
    "language_mapping = {\n",
    "    \"english\": \"en\",\n",
    "    \"hindi\": \"hi\",\n",
    "    \"spanish\": \"es\",\n",
    "    \"french\": \"fr\",\n",
    "    \"german\": \"de\"\n",
    "}\n",
    "\n",
    "def query_spotify_top_tracks(genre, language_code=None, limit=10):\n",
    "    \"\"\"Query Spotify for top tracks based on genre and optional language code.\"\"\"\n",
    "    query = f'genre:\"{genre}\"'\n",
    "    if language_code:\n",
    "        query += f' language:\"{language_code}\"'\n",
    "\n",
    "    try:\n",
    "        results = sp.search(q=query, type=\"track\", limit=limit)\n",
    "        tracks = results['tracks']['items']\n",
    "        return [(track['name'], ', '.join([artist['name'] for artist in track['artists']])) for track in tracks]\n",
    "    except Exception as e:\n",
    "        print(f\"Error querying Spotify API: {e}\")\n",
    "        return []\n",
    "\n",
    "# Testing function\n",
    "mood = \"sad\"  # Change mood to test different genres (e.g., \"sad\", \"angry\")\n",
    "  # Change language to test (e.g., \"hindi\", \"spanish\")\n",
    "\n",
    "genre = mood_to_genre.get(mood)\n",
    "#language_code = language_mapping.get(language)\n",
    "\n",
    "if not genre:\n",
    "    print(\"Invalid mood. Please choose from happy, sad, angry, fearful, surprised, or neutral.\")\n",
    "# elif not language_code:\n",
    "#     print(f\"Unsupported language '{language}'. Please choose from: {', '.join(language_mapping.keys())}.\")\n",
    "else:\n",
    "    tracks = query_spotify_top_tracks(genre)\n",
    "    if tracks:\n",
    "        print(f\"Top tracks for mood '{mood}' ':\")\n",
    "        for track_name, artists in tracks:\n",
    "            print(f\"- {track_name} by {artists}\")\n",
    "    else:\n",
    "        print(f\"No tracks found for mood '{mood}' '.\")\n"
   ]
  }
 ],
 "metadata": {
  "kernelspec": {
   "display_name": "Python 3",
   "language": "python",
   "name": "python3"
  },
  "language_info": {
   "codemirror_mode": {
    "name": "ipython",
    "version": 3
   },
   "file_extension": ".py",
   "mimetype": "text/x-python",
   "name": "python",
   "nbconvert_exporter": "python",
   "pygments_lexer": "ipython3",
   "version": "3.10.0"
  }
 },
 "nbformat": 4,
 "nbformat_minor": 2
}
